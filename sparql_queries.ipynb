{
  "nbformat": 4,
  "nbformat_minor": 0,
  "metadata": {
    "colab": {
      "provenance": [],
      "toc_visible": true,
      "authorship_tag": "ABX9TyP13QQwlrkxu8MwbuodS6HX",
      "include_colab_link": true
    },
    "kernelspec": {
      "name": "python3",
      "display_name": "Python 3"
    },
    "language_info": {
      "name": "python"
    }
  },
  "cells": [
    {
      "cell_type": "markdown",
      "metadata": {
        "id": "view-in-github",
        "colab_type": "text"
      },
      "source": [
        "<a href=\"https://colab.research.google.com/github/lucia1299/experiment/blob/main/sparql_queries.ipynb\" target=\"_parent\"><img src=\"https://colab.research.google.com/assets/colab-badge.svg\" alt=\"Open In Colab\"/></a>"
      ]
    },
    {
      "cell_type": "code",
      "source": [
        "pip install rdflib\n"
      ],
      "metadata": {
        "colab": {
          "base_uri": "https://localhost:8080/"
        },
        "id": "5VWO9oRoDN4S",
        "outputId": "2acf0743-5477-4ed9-c91a-15d1fe69ca0e"
      },
      "execution_count": 1,
      "outputs": [
        {
          "output_type": "stream",
          "name": "stdout",
          "text": [
            "Looking in indexes: https://pypi.org/simple, https://us-python.pkg.dev/colab-wheels/public/simple/\n",
            "Collecting rdflib\n",
            "  Downloading rdflib-6.3.2-py3-none-any.whl (528 kB)\n",
            "\u001b[2K     \u001b[90m━━━━━━━━━━━━━━━━━━━━━━━━━━━━━━━━━━━━━━━\u001b[0m \u001b[32m528.1/528.1 kB\u001b[0m \u001b[31m8.8 MB/s\u001b[0m eta \u001b[36m0:00:00\u001b[0m\n",
            "\u001b[?25hRequirement already satisfied: pyparsing<4,>=2.1.0 in /usr/local/lib/python3.9/dist-packages (from rdflib) (3.0.9)\n",
            "Collecting isodate<0.7.0,>=0.6.0\n",
            "  Downloading isodate-0.6.1-py2.py3-none-any.whl (41 kB)\n",
            "\u001b[2K     \u001b[90m━━━━━━━━━━━━━━━━━━━━━━━━━━━━━━━━━━━━━━━━\u001b[0m \u001b[32m41.7/41.7 kB\u001b[0m \u001b[31m3.4 MB/s\u001b[0m eta \u001b[36m0:00:00\u001b[0m\n",
            "\u001b[?25hRequirement already satisfied: six in /usr/local/lib/python3.9/dist-packages (from isodate<0.7.0,>=0.6.0->rdflib) (1.16.0)\n",
            "Installing collected packages: isodate, rdflib\n",
            "Successfully installed isodate-0.6.1 rdflib-6.3.2\n"
          ]
        }
      ]
    },
    {
      "cell_type": "code",
      "execution_count": null,
      "metadata": {
        "id": "tHve-Sy92Xvl"
      },
      "outputs": [],
      "source": [
        "EXPECTED RESULTS\n",
        "1) Programming: Jason Formant, Tripla Turtly\n",
        "\n",
        "2) Formant, Turtly \n",
        "\n",
        "3) Jason Formant, Tripla Turtly \n",
        "\n",
        "4) Museology: 30/07/2021, 01/09/2021, 30/06/2021\n",
        "\n",
        "5) Programming: 22, 17, 23\n",
        "Museology: 14, 19, 30"
      ]
    },
    {
      "cell_type": "code",
      "source": [
        "prefix ex: <https://www.example.org#> \n",
        "prefix uni: <https://www.universityregister.org#> \n",
        "\n",
        "select ?student where {?student uni:didExam ex:Programming}"
      ],
      "metadata": {
        "id": "WfuMq4-d4ckQ"
      },
      "execution_count": null,
      "outputs": []
    },
    {
      "cell_type": "code",
      "source": [
        "prefix ex: <https://www.example.org#> \n",
        "prefix uni: <https://www.universityregister.org#>\n",
        "\n",
        "select ?surname where {?surname uni:didExam ?exam}"
      ],
      "metadata": {
        "id": "8Zp1JAs5705q"
      },
      "execution_count": null,
      "outputs": []
    },
    {
      "cell_type": "code",
      "source": [
        "prefix ex: <https://www.example.org#> \n",
        "prefix uni: <https://www.universityregister.org#>\n",
        "\n",
        "select ?student where {?student uni:didExamOnDate ?date1 . \n",
        "                       ?student uni:didExamOnDate ?date2 .\n",
        "FILTER ( ?date1 != ?date2 )}"
      ],
      "metadata": {
        "id": "QO4beHY689Le"
      },
      "execution_count": null,
      "outputs": []
    },
    {
      "cell_type": "code",
      "source": [
        "prefix ex: <https://www.example.org#> \n",
        "prefix uni: <https://www.universityregister.org#>\n",
        "\n",
        "select ?student ?date where {?student uni:didExamOnDate ?date .\n",
        "                    ?student uni:didExam ex:Museology }"
      ],
      "metadata": {
        "id": "57zwOCMr-c4-"
      },
      "execution_count": null,
      "outputs": []
    },
    {
      "cell_type": "code",
      "source": [
        "prefix ex: <https://www.example.org#> \n",
        "prefix uni: <https://www.universityregister.org#>\n",
        "\n",
        "select ?marks ?student ?exam where {?student uni:receivedMark ?mark . \n",
        "                     ?student uni:didExam ?exam}"
      ],
      "metadata": {
        "id": "VWINIagz_OlN"
      },
      "execution_count": null,
      "outputs": []
    },
    {
      "cell_type": "code",
      "source": [
        "import rdflib\n",
        "from rdflib import *\n",
        "\n",
        "symbolkg = Graph()\n",
        "symbolkg.parse(\"students.ttl\", format=\"ttl\")\n",
        "cq1 = '''\n",
        "prefix ex: <https://www.example.org#> \n",
        "prefix uni: <https://www.universityregister.org#> \n",
        "\n",
        "select ?student where {?student uni:didExam ex:Programming}\n",
        "'''\n",
        "cq2 = '''\n",
        "prefix ex: <https://www.example.org#> \n",
        "prefix uni: <https://www.universityregister.org#>\n",
        "\n",
        "select distinct ?surname where {?surname uni:didExam ?exam}'''\n",
        "\n",
        "cq3 = '''\n",
        "prefix ex: <https://www.example.org#> \n",
        "prefix uni: <https://www.universityregister.org#>\n",
        "\n",
        "select distinct ?student where {?student uni:didExamOnDate ?date1 . \n",
        "                       ?student uni:didExamOnDate ?date2 .\n",
        "FILTER ( ?date1 != ?date2 )}\n",
        "'''\n",
        "\n",
        "cq4 = '''\n",
        "prefix ex: <https://www.example.org#> \n",
        "prefix uni: <https://www.universityregister.org#>\n",
        "\n",
        "select ?student ?date where {?student uni:didExamOnDate ?date .\n",
        "                    ?student uni:didExam ex:Museology }\n",
        "'''\n",
        "\n",
        "cq5 = '''\n",
        "prefix ex: <https://www.example.org#> \n",
        "prefix uni: <https://www.universityregister.org#>\n",
        "\n",
        "select distinct ?marks ?exam where {?student uni:receivedMark ?marks . \n",
        "                     ?student uni:didExam ?exam}\n",
        "'''\n",
        "\n",
        "er1 = \"ex:Jason Formant ex:Tripla Turtly\"\n",
        "er2 = \"ex:Formant, ex: Turtly\"\n",
        "er3 = \"ex:Jason Formant, ex:Tripla Turtly\"\n",
        "er4 = \"30/07/2021, 01/09/2021, 30/06/2021\"\n",
        "er5 = \"ex:Programming 22, 17, 23; ex:Museology 14, 19, 30\"\n",
        "\n",
        "cqs = [cq1, cq2, cq3, cq4, cq5]\n",
        "ers = [er1, er2, er3, er4, er5]\n",
        "\n",
        "for idx, cq in enumerate(cqs):\n",
        "    print(\"Results for cq \" + str(idx+1) + \":\")\n",
        "    results = symbolkg.query(cq)\n",
        "    for result in results:\n",
        "        print(result)\n",
        "    print(\"Expected results for cq \" + str(idx+1) + \":\")\n",
        "    print(ers[idx])\n",
        "    print(\"...\")\n",
        "    print(\"...\")"
      ],
      "metadata": {
        "colab": {
          "base_uri": "https://localhost:8080/"
        },
        "id": "4CvDgXSIBBkK",
        "outputId": "e044baa9-ea4f-4933-9fe6-669dc93fbb4d"
      },
      "execution_count": 20,
      "outputs": [
        {
          "output_type": "stream",
          "name": "stdout",
          "text": [
            "Results for cq 1:\n",
            "(rdflib.term.URIRef('https://www.example.org#jasonformant'),)\n",
            "(rdflib.term.URIRef('https://www.example.org#triplaturtley'),)\n",
            "Expected results for cq 1:\n",
            "ex:Jason Formant ex:Tripla Turtly\n",
            "...\n",
            "...\n",
            "Results for cq 2:\n",
            "(rdflib.term.URIRef('https://www.example.org#jasonformant'),)\n",
            "(rdflib.term.URIRef('https://www.example.org#triplaturtley'),)\n",
            "Expected results for cq 2:\n",
            "ex:Formant, ex: Turtly\n",
            "...\n",
            "...\n",
            "Results for cq 3:\n",
            "(rdflib.term.URIRef('https://www.example.org#jasonformant'),)\n",
            "(rdflib.term.URIRef('https://www.example.org#triplaturtley'),)\n",
            "Expected results for cq 3:\n",
            "ex:Jason Formant, ex:Tripla Turtly\n",
            "...\n",
            "...\n",
            "Results for cq 4:\n",
            "(rdflib.term.URIRef('https://www.example.org#jasonformant'), rdflib.term.URIRef('https://www.example.org#july25th'))\n",
            "(rdflib.term.URIRef('https://www.example.org#jasonformant'), rdflib.term.URIRef('https://www.example.org#july30th'))\n",
            "(rdflib.term.URIRef('https://www.example.org#jasonformant'), rdflib.term.URIRef('https://www.example.org#september1st'))\n",
            "(rdflib.term.URIRef('https://www.example.org#triplaturtley'), rdflib.term.URIRef('https://www.example.org#july7th'))\n",
            "(rdflib.term.URIRef('https://www.example.org#triplaturtley'), rdflib.term.URIRef('https://www.example.org#june30th'))\n",
            "(rdflib.term.URIRef('https://www.example.org#triplaturtley'), rdflib.term.URIRef('https://www.example.org#september10th'))\n",
            "Expected results for cq 4:\n",
            "30/07/2021, 01/09/2021, 30/06/2021\n",
            "...\n",
            "...\n",
            "Results for cq 5:\n",
            "(rdflib.term.URIRef('https://www.example.org#14'), rdflib.term.URIRef('https://www.example.org#Museology'))\n",
            "(rdflib.term.URIRef('https://www.example.org#19'), rdflib.term.URIRef('https://www.example.org#Museology'))\n",
            "(rdflib.term.URIRef('https://www.example.org#22'), rdflib.term.URIRef('https://www.example.org#Museology'))\n",
            "(rdflib.term.URIRef('https://www.example.org#17'), rdflib.term.URIRef('https://www.example.org#Museology'))\n",
            "(rdflib.term.URIRef('https://www.example.org#23'), rdflib.term.URIRef('https://www.example.org#Museology'))\n",
            "(rdflib.term.URIRef('https://www.example.org#30'), rdflib.term.URIRef('https://www.example.org#Museology'))\n",
            "(rdflib.term.URIRef('https://www.example.org#14'), rdflib.term.URIRef('https://www.example.org#Programming'))\n",
            "(rdflib.term.URIRef('https://www.example.org#19'), rdflib.term.URIRef('https://www.example.org#Programming'))\n",
            "(rdflib.term.URIRef('https://www.example.org#22'), rdflib.term.URIRef('https://www.example.org#Programming'))\n",
            "(rdflib.term.URIRef('https://www.example.org#17'), rdflib.term.URIRef('https://www.example.org#Programming'))\n",
            "(rdflib.term.URIRef('https://www.example.org#23'), rdflib.term.URIRef('https://www.example.org#Programming'))\n",
            "(rdflib.term.URIRef('https://www.example.org#30'), rdflib.term.URIRef('https://www.example.org#Programming'))\n",
            "Expected results for cq 5:\n",
            "ex:Programming 22, 17, 23; ex:Museology 14, 19, 30\n",
            "...\n",
            "...\n"
          ]
        }
      ]
    },
    {
      "cell_type": "code",
      "source": [
        "ex = Namespace(\"https://www.example.org#\")\n",
        "uni = Namespace(\"https://www.universityregister.org#\")\n",
        "\n",
        "symbolkg.bind(\"ex\", ex)\n",
        "symbolkg.bind(\"uni\", uni)\n",
        "symbolkg.add((ex.triplaturtley, uni.didExam, ex.Programming))"
      ],
      "metadata": {
        "colab": {
          "base_uri": "https://localhost:8080/"
        },
        "id": "9gogJ6OKGCL0",
        "outputId": "bc51639d-04de-4f46-8daa-6474ce2f2e0f"
      },
      "execution_count": 19,
      "outputs": [
        {
          "output_type": "execute_result",
          "data": {
            "text/plain": [
              "<Graph identifier=Nc045710352934eeb9a525fb960bb79b5 (<class 'rdflib.graph.Graph'>)>"
            ]
          },
          "metadata": {},
          "execution_count": 19
        }
      ]
    },
    {
      "cell_type": "code",
      "source": [],
      "metadata": {
        "id": "hyhYp8dZJqSA"
      },
      "execution_count": null,
      "outputs": []
    },
    {
      "cell_type": "code",
      "source": [
        "import rdflib\n",
        "from rdflib import *\n",
        "\n",
        "cq1 = '''\n",
        "prefix ex: <https://www.example.org#> \n",
        "prefix uni: <https://www.universityregister.org#> \n",
        "\n",
        "select ?student where {?student uni:didExam ex:Programming}\n",
        "'''\n",
        "cq2 = '''\n",
        "prefix ex: <https://www.example.org#> \n",
        "prefix uni: <https://www.universityregister.org#>\n",
        "\n",
        "select distinct ?surname where {?surname uni:didExam ?exam}'''\n",
        "\n",
        "cq3 = '''\n",
        "prefix ex: <https://www.example.org#> \n",
        "prefix uni: <https://www.universityregister.org#>\n",
        "\n",
        "select distinct ?student where {?student uni:didExamOnDate ?date1 . \n",
        "                       ?student uni:didExamOnDate ?date2 .\n",
        "FILTER ( ?date1 != ?date2 )}\n",
        "'''\n",
        "\n",
        "cq4 = '''\n",
        "prefix ex: <https://www.example.org#> \n",
        "prefix uni: <https://www.universityregister.org#>\n",
        "\n",
        "select ?student ?date where {?student uni:didExamOnDate ?date .\n",
        "                    ?student uni:didExam ex:Museology }\n",
        "'''\n",
        "\n",
        "cq5 = '''\n",
        "prefix ex: <https://www.example.org#> \n",
        "prefix uni: <https://www.universityregister.org#>\n",
        "\n",
        "select distinct ?marks ?exam where {?student uni:receivedMark ?marks . \n",
        "                     ?student uni:didExam ?exam}\n",
        "'''\n",
        "\n",
        "er1 = \"ex:Jason Formant ex:Tripla Turtly\"\n",
        "er2 = \"ex:Formant, ex: Turtly\"\n",
        "er3 = \"ex:Jason Formant, ex:Tripla Turtly\"\n",
        "er4 = \"30/07/2021, 01/09/2021, 30/06/2021\"\n",
        "er5 = \"ex:Programming 22, 17, 23; ex:Museology 14, 19, 30\"\n",
        "\n",
        "cqs = [cq1, cq2, cq3, cq4, cq5]\n",
        "ers = [er1, er2, er3, er4, er5]\n",
        "\n",
        "for idx, cq in enumerate(cqs):\n",
        "    print(\"Results for cq \" + str(idx+1) + \":\")\n",
        "    results = symbolkg.query(cq)\n",
        "    for result in results:\n",
        "        print(result)\n",
        "    print(\"Expected results for cq \" + str(idx+1) + \":\")\n",
        "    print(ers[idx])\n",
        "    print(\"...\")\n",
        "    print(\"...\")"
      ],
      "metadata": {
        "colab": {
          "base_uri": "https://localhost:8080/"
        },
        "outputId": "e044baa9-ea4f-4933-9fe6-669dc93fbb4d",
        "id": "c3UivIuwJqtd"
      },
      "execution_count": null,
      "outputs": [
        {
          "output_type": "stream",
          "name": "stdout",
          "text": [
            "Results for cq 1:\n",
            "(rdflib.term.URIRef('https://www.example.org#jasonformant'),)\n",
            "(rdflib.term.URIRef('https://www.example.org#triplaturtley'),)\n",
            "Expected results for cq 1:\n",
            "ex:Jason Formant ex:Tripla Turtly\n",
            "...\n",
            "...\n",
            "Results for cq 2:\n",
            "(rdflib.term.URIRef('https://www.example.org#jasonformant'),)\n",
            "(rdflib.term.URIRef('https://www.example.org#triplaturtley'),)\n",
            "Expected results for cq 2:\n",
            "ex:Formant, ex: Turtly\n",
            "...\n",
            "...\n",
            "Results for cq 3:\n",
            "(rdflib.term.URIRef('https://www.example.org#jasonformant'),)\n",
            "(rdflib.term.URIRef('https://www.example.org#triplaturtley'),)\n",
            "Expected results for cq 3:\n",
            "ex:Jason Formant, ex:Tripla Turtly\n",
            "...\n",
            "...\n",
            "Results for cq 4:\n",
            "(rdflib.term.URIRef('https://www.example.org#jasonformant'), rdflib.term.URIRef('https://www.example.org#july25th'))\n",
            "(rdflib.term.URIRef('https://www.example.org#jasonformant'), rdflib.term.URIRef('https://www.example.org#july30th'))\n",
            "(rdflib.term.URIRef('https://www.example.org#jasonformant'), rdflib.term.URIRef('https://www.example.org#september1st'))\n",
            "(rdflib.term.URIRef('https://www.example.org#triplaturtley'), rdflib.term.URIRef('https://www.example.org#july7th'))\n",
            "(rdflib.term.URIRef('https://www.example.org#triplaturtley'), rdflib.term.URIRef('https://www.example.org#june30th'))\n",
            "(rdflib.term.URIRef('https://www.example.org#triplaturtley'), rdflib.term.URIRef('https://www.example.org#september10th'))\n",
            "Expected results for cq 4:\n",
            "30/07/2021, 01/09/2021, 30/06/2021\n",
            "...\n",
            "...\n",
            "Results for cq 5:\n",
            "(rdflib.term.URIRef('https://www.example.org#14'), rdflib.term.URIRef('https://www.example.org#Museology'))\n",
            "(rdflib.term.URIRef('https://www.example.org#19'), rdflib.term.URIRef('https://www.example.org#Museology'))\n",
            "(rdflib.term.URIRef('https://www.example.org#22'), rdflib.term.URIRef('https://www.example.org#Museology'))\n",
            "(rdflib.term.URIRef('https://www.example.org#17'), rdflib.term.URIRef('https://www.example.org#Museology'))\n",
            "(rdflib.term.URIRef('https://www.example.org#23'), rdflib.term.URIRef('https://www.example.org#Museology'))\n",
            "(rdflib.term.URIRef('https://www.example.org#30'), rdflib.term.URIRef('https://www.example.org#Museology'))\n",
            "(rdflib.term.URIRef('https://www.example.org#14'), rdflib.term.URIRef('https://www.example.org#Programming'))\n",
            "(rdflib.term.URIRef('https://www.example.org#19'), rdflib.term.URIRef('https://www.example.org#Programming'))\n",
            "(rdflib.term.URIRef('https://www.example.org#22'), rdflib.term.URIRef('https://www.example.org#Programming'))\n",
            "(rdflib.term.URIRef('https://www.example.org#17'), rdflib.term.URIRef('https://www.example.org#Programming'))\n",
            "(rdflib.term.URIRef('https://www.example.org#23'), rdflib.term.URIRef('https://www.example.org#Programming'))\n",
            "(rdflib.term.URIRef('https://www.example.org#30'), rdflib.term.URIRef('https://www.example.org#Programming'))\n",
            "Expected results for cq 5:\n",
            "ex:Programming 22, 17, 23; ex:Museology 14, 19, 30\n",
            "...\n",
            "...\n"
          ]
        }
      ]
    },
    {
      "cell_type": "code",
      "source": [
        "print(symbolkg.serialize(\"newstudents.ttl\", format=\"ttl\"))"
      ],
      "metadata": {
        "colab": {
          "base_uri": "https://localhost:8080/"
        },
        "id": "4MG-30uYHYqp",
        "outputId": "a93398a9-2bb8-42c5-fe6f-a36c8a1a9f21"
      },
      "execution_count": 17,
      "outputs": [
        {
          "output_type": "stream",
          "name": "stdout",
          "text": [
            "@prefix ex: <https://www.example.org#> .\n",
            "@prefix uni: <https://www.universityregister.org#> .\n",
            "\n",
            "ex:Webbotwopointo a uni:Studenx .\n",
            "\n",
            "ex:jasonformant a uni:Student ;\n",
            "    uni:didExam ex:Museology,\n",
            "        ex:Programming ;\n",
            "    uni:didExamOnDate ex:july25th,\n",
            "        ex:july30th,\n",
            "        ex:september1st ;\n",
            "    uni:fullname \"Jason Formant\" ;\n",
            "    uni:receivedMark ex:14,\n",
            "        ex:19,\n",
            "        ex:22 .\n",
            "\n",
            "ex:july17th uni:value \"07/07/2021\" .\n",
            "\n",
            "ex:triplaturtley a uni:Student ;\n",
            "    uni:didExam ex:Museology,\n",
            "        ex:Programming ;\n",
            "    uni:didExamOnDate ex:july7th,\n",
            "        ex:june30th,\n",
            "        ex:september10th ;\n",
            "    uni:fullname \"Tripla Turtley\" ;\n",
            "    uni:receivedMark ex:17,\n",
            "        ex:23,\n",
            "        ex:30 .\n",
            "\n",
            "ex:14 uni:value \"14\" .\n",
            "\n",
            "ex:17 uni:value \"17\" .\n",
            "\n",
            "ex:19 uni:value \"19\" .\n",
            "\n",
            "ex:22 uni:value \"22\" .\n",
            "\n",
            "ex:23 uni:value \"23\" .\n",
            "\n",
            "ex:30 uni:value \"30\" .\n",
            "\n",
            "ex:july25th uni:value \"25/07/2021\" .\n",
            "\n",
            "ex:july30th uni:value \"30/07/2021\" .\n",
            "\n",
            "ex:june30th uni:value \"30/06/2021\" .\n",
            "\n",
            "ex:september10th uni:value \"10/09/2021\" .\n",
            "\n",
            "ex:september1st uni:value \"01/09/2021\" .\n",
            "\n",
            "\n"
          ]
        }
      ]
    }
  ]
}